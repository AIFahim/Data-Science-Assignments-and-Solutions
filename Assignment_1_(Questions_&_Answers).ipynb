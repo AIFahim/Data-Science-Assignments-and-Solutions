{
  "nbformat": 4,
  "nbformat_minor": 0,
  "metadata": {
    "colab": {
      "name": "Assignment_1 (Questions & Answers)",
      "provenance": []
    },
    "kernelspec": {
      "name": "python3",
      "display_name": "Python 3"
    },
    "language_info": {
      "name": "python"
    }
  },
  "cells": [
    {
      "cell_type": "markdown",
      "source": [
        "1. In the below elements which of them are values or an expression? eg:- values can be\n",
        "integer or string and expressions will be mathematical operators.\n",
        "*\n",
        "<br> 'hello;\n",
        "<br> -87.8\n",
        "<br> -\n",
        "<br> /\n",
        "<br> +\n",
        "<br> 6"
      ],
      "metadata": {
        "id": "YARTAkc1JpIQ"
      }
    },
    {
      "cell_type": "markdown",
      "source": [
        "**Answer**:  <br>\n",
        "\\*  &nbsp; Expression( mathematical operator) <br>\n",
        "'hello'  &nbsp;  value (String) <br>\n",
        "-87.8  &nbsp; value (Float) <br>\n",
        "\\-  &nbsp; Expression( mathematical operator) <br>\n",
        "\\/  &nbsp; Expression( mathematical operator) <br>\n",
        "\\+  &nbsp; Expression( mathematical operator) <br>\n",
        "6  &nbsp; value (Integer)\n"
      ],
      "metadata": {
        "id": "NjCTMBcNJ_Pt"
      }
    },
    {
      "cell_type": "markdown",
      "source": [
        "2. What is the difference between string and variable?"
      ],
      "metadata": {
        "id": "cosRBr4DNGy6"
      }
    },
    {
      "cell_type": "markdown",
      "source": [
        "**Answer**: <br>\n",
        "- String : String is a value which represent text. And in python string value always need to enclosed with \"\" or '' . Example : `st = \"Bangladesh\"` ;where \"Bangladesh is String\"\n",
        "\n",
        "- Variable : Variable is a name which refer to any value. For example, `a = 10` ; a refer value 10 or `a = \"I am Fahim\"` ;where variable a refer value \"I am Fahim\"."
      ],
      "metadata": {
        "id": "8RQPZltMNIrM"
      }
    },
    {
      "cell_type": "markdown",
      "source": [
        "3. Describe three different data types."
      ],
      "metadata": {
        "id": "PWpa8g5oO0Q_"
      }
    },
    {
      "cell_type": "markdown",
      "source": [
        "**Answer**: <br>\n",
        "- Interger : Integer is the one type of datatype which represents some range of mathematical integers. And it also allow negative values. Integer range from  $(2^{31} - 1)$ to $- (2^{31} - 1)$. Example: -10\n",
        "- Float : Float is the one type of datatype which allow fraction value of  deciaml format. For example: 5.5\n",
        "- Boolean : Boolean is the one type of datatype which just allow Two possible value (True or False) or (0 or 1). For example in python programming language = `boolean = (1 == 1)` where actually `boolean = True`"
      ],
      "metadata": {
        "id": "P9hthPGXO7jl"
      }
    },
    {
      "cell_type": "markdown",
      "source": [
        "4. What is an expression made up of? What do all expressions do?"
      ],
      "metadata": {
        "id": "mW02ZtObW54a"
      }
    },
    {
      "cell_type": "markdown",
      "source": [
        "**Answer**: An expression is a combination of values, variables, operators, and calls to functions. All expressions actually evaluates to a value. "
      ],
      "metadata": {
        "id": "IH8DMjOyW7ZB"
      }
    },
    {
      "cell_type": "markdown",
      "source": [
        "5. This assignment statements, like spam = 10. What is the difference between an\n",
        "expression and a statement?"
      ],
      "metadata": {
        "id": "lOg0TMwVYGRv"
      }
    },
    {
      "cell_type": "markdown",
      "source": [
        "**Answer** : Expression always evaluate to a value , statements don't. <br>\n",
        "Valuable assignment is statements because it do not return a value. For that reason, `spam = 10` is a statement. "
      ],
      "metadata": {
        "id": "X0xj_1YhYPvK"
      }
    },
    {
      "cell_type": "markdown",
      "source": [
        "6. After running the following code, what does the variable bacon contain?\n",
        "<br>bacon = 22\n",
        "<br>bacon + 1"
      ],
      "metadata": {
        "id": "2rEQj8RdZPAJ"
      }
    },
    {
      "cell_type": "markdown",
      "source": [
        "**Answer** : variable bacon will contain 22. Because `bacon + 1` is statement not an expression."
      ],
      "metadata": {
        "id": "VdOKEMLxZUdY"
      }
    },
    {
      "cell_type": "markdown",
      "source": [
        "7. What should the values of the following two terms be?\n",
        "<br> 'spam' + 'spamspam'\n",
        "<br> 'spam' * 3"
      ],
      "metadata": {
        "id": "7pa3LUqdaC9w"
      }
    },
    {
      "cell_type": "markdown",
      "source": [
        "**Answer** : <br>\n",
        "- 'spam' + 'spamspam'  # Output : 'spamspamspam'\n",
        "- 'spam'*3 # Output : 'spamspamspam'"
      ],
      "metadata": {
        "id": "Sg-oy5_YadX5"
      }
    },
    {
      "cell_type": "markdown",
      "source": [
        "8. Why is eggs a valid variable name while 100 is invalid?"
      ],
      "metadata": {
        "id": "Ks0W4BGZb6Y6"
      }
    },
    {
      "cell_type": "markdown",
      "source": [
        "**Answer** : For creating variable in the programming languages there are some rules. Like: \n",
        "- A variable name must start with a letter or the underscore character.\n",
        "- A variable name cannot start with a number.\n",
        "- A variable name can only contain alpha-numeric characters and underscores (A-z, 0-9, and _ )\n",
        "- Variable names are case-sensitive (age, Age and AGE are three different variables)\n",
        "\n",
        "For that reason, is I consider variable name like `100 = 10` then will show error because variable name start with number. But if I consider variable name `eggs = 10` that perfectly fine. "
      ],
      "metadata": {
        "id": "pydjp3cEb8Eb"
      }
    },
    {
      "cell_type": "markdown",
      "source": [
        "9. What three functions can be used to get the integer, floating-point number, or string version of a value?"
      ],
      "metadata": {
        "id": "NdItbwv7dBZ4"
      }
    },
    {
      "cell_type": "markdown",
      "source": [
        "**Answer**:  `int()`, `float()`, and `str()` functions."
      ],
      "metadata": {
        "id": "91SId_vFdFWP"
      }
    },
    {
      "cell_type": "markdown",
      "source": [
        "10. Why does this expression cause an error? How can you fix it?<br>\n",
        "&#39;I have eaten &#39; + 99 + &#39; burritos.&#39;"
      ],
      "metadata": {
        "id": "fUmqIoP4dVjj"
      }
    },
    {
      "cell_type": "markdown",
      "source": [
        "**Answer**: For concate the multiple strings we can use `+` operator in the expression. For example, `str = \"asif\" + \"iqbal\" + \"fahim\"` then it become :  `str = \"asifiqbalfahim\"`.<br>\n",
        "But the quesion expression, it try to concate string with interger value. Because `99` is interger value. Which is not possible. If we need to concate this interger value with string, then we need to use `str()` function to convert it into string formet. So that the correct expression is : <br>\n",
        "'I have eaten ' + str(99) + ' burritos.'"
      ],
      "metadata": {
        "id": "0Y69brtDjKVd"
      }
    }
  ]
}